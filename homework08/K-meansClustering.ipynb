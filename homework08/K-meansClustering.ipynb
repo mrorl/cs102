{
 "cells": [
  {
   "cell_type": "markdown",
   "metadata": {},
   "source": [
    "# Кластеризация: Метод k-средних\n",
    "Кластерный анализ – это способ группировки многомерных объектов, основанный на представлении результатов отдельных наблюдений точками подходящего геометрического пространства с последующим выделением групп как «сгустков» этих точек (кластеров, таксонов). Задачей такого разделения на группы является ухватить естественную структуру данных и абстрагироваться от индивидуальных характеристик каждого объекта к более общим признакам, которые объединяют эти объекты в кластеры. Например, кластеризация документов по их содержимому или кластеризация покупателей по их потребительской корзине и т.д. Так как заранее не известно по каким признакам следует объединять объекты в кластеры, то кластерный анализ относят к методам обучения без учителя (unsupervised learning).\n",
    "Одним из наиболее простых и распространенных алгоритмов кластеризации является алгоритм k-средних (k-means), в котором каждый кластер представлен его центром (центроидом).\n",
    "\n",
    "\"K\" означает число кластеров. Число кластеров не определяется автоматически и в каждом кластере может быть разное число объектов;\n",
    "k-средних использует двух шаговый эвристический подход к группированию похожих объектов: шаг присваивания и шаг обновления;\n",
    "схожесть (похожесть) объектов измеряется с помощью функции дистанции.\n",
    "\n",
    "# Алгоритм k-средних\n",
    "k-средних можно описать следующими 4-мя шагами:\n",
    "1. Выбрать k объектов как начальные центроиды.\n",
    "2. Отнести остальные объекты к ближайшим центроидам.\n",
    "3. Произвести перерасчет центроидов.\n",
    "4. Повторять шаги 2 и 3 до тех пор, пока центроиды не перестанут «двигаться»."
   ]
  },
  {
   "cell_type": "code",
   "execution_count": 1,
   "metadata": {},
   "outputs": [],
   "source": [
    "import pandas as pd\n",
    "import numpy as np\n",
    "from copy import deepcopy\n",
    "import matplotlib.pyplot as plt\n",
    "\n",
    "\n",
    "def distance(v1, v2, ax=1):\n",
    "    return np.linalg.norm(v1 - v2, axis=ax)\n",
    "\n",
    "class KMeans:\n",
    "    def __init__(self, n_clusters, max_iter=500):\n",
    "        self.n_clusters = n_clusters\n",
    "        self.max_iter = max_iter\n",
    "\n",
    "    def fit(self, X):\n",
    "        n_samples = len(X)\n",
    "        centroids = X[np.random.choice(X.shape[0], self.n_clusters, replace=False)]\n",
    "        centroids_old = np.zeros(centroids.shape)\n",
    "        clusters = np.zeros(n_samples)\n",
    "\n",
    "        while True:\n",
    "            for i in range(n_samples):\n",
    "                distances = distance(X[i,], centroids)\n",
    "                clusters[i] = distances.argmin()\n",
    "            centroids_old = deepcopy(centroids)\n",
    "            \n",
    "            for k in range(self.n_clusters):\n",
    "                centroids[k] = X[clusters == k,].mean(axis=0)\n",
    "            error = distance(centroids, centroids_old, None)\n",
    "            \n",
    "            if (error >= 0) and (error <= 0.01):\n",
    "                self.clusters = clusters.astype(\"int\")\n",
    "                self.centroids = centroids\n",
    "                break\n",
    "\n",
    "    def predict(self, y):\n",
    "        y_unique = np.unique(y)\n",
    "        y_unique_num = [i for i in range(len(np.unique(y)))]\n",
    "        n_samples = len(X)\n",
    "        clusters = np.zeros(n_samples)\n",
    "        \n",
    "        for k in range(n_samples):\n",
    "            for j in range(self.n_clusters):\n",
    "                if y[k][0] == y_unique[j]:\n",
    "                    y[k] = y_unique_num[j]\n",
    "            clusters[k] = y[k]\n",
    "        \n",
    "        centroids = X[np.random.choice(X.shape[0], self.n_clusters, replace=False)]\n",
    "        centroids_old = np.zeros(centroids.shape)\n",
    "        \n",
    "        while True:\n",
    "            centroids_old = deepcopy(centroids)\n",
    "            error = distance(centroids, centroids_old, None)\n",
    "            \n",
    "            if error == 0:\n",
    "                self.clusters = clusters.astype(int)\n",
    "                self.centroids = centroids\n",
    "        \n",
    "        return self.centroids, self.clusters"
   ]
  },
  {
   "cell_type": "markdown",
   "metadata": {},
   "source": [
    "Для обучения модели будем использовать хорошо известный набор данных с лепестками цветов ириса:"
   ]
  },
  {
   "cell_type": "code",
   "execution_count": 2,
   "metadata": {},
   "outputs": [
    {
     "name": "stderr",
     "output_type": "stream",
     "text": [
      "c:\\users\\orl\\appdata\\local\\programs\\python\\python37\\lib\\site-packages\\ipykernel_launcher.py:2: FutureWarning: Method .as_matrix will be removed in a future version. Use .values instead.\n",
      "  \n"
     ]
    }
   ],
   "source": [
    "df = pd.read_csv('iris.csv')\n",
    "X = df.loc[:, df.columns != \"Name\"].as_matrix()\n",
    "model = KMeans(3)\n",
    "model.fit(X)\n",
    "clusters = model.clusters"
   ]
  },
  {
   "cell_type": "code",
   "execution_count": 3,
   "metadata": {},
   "outputs": [
    {
     "data": {
      "text/plain": [
       "array([1, 1, 1, 1, 1, 1, 1, 1, 1, 1, 1, 1, 1, 1, 1, 1, 1, 1, 1, 1, 1, 1,\n",
       "       1, 1, 1, 1, 1, 1, 1, 1, 1, 1, 1, 1, 1, 1, 1, 1, 1, 1, 1, 1, 1, 1,\n",
       "       1, 1, 1, 1, 1, 1, 0, 0, 0, 2, 0, 2, 0, 2, 0, 2, 2, 2, 2, 0, 2, 0,\n",
       "       2, 2, 0, 2, 0, 2, 0, 0, 0, 0, 0, 0, 0, 2, 2, 2, 2, 0, 2, 0, 0, 0,\n",
       "       2, 2, 2, 0, 2, 2, 2, 2, 2, 0, 2, 2])"
      ]
     },
     "execution_count": 3,
     "metadata": {},
     "output_type": "execute_result"
    }
   ],
   "source": [
    "clusters"
   ]
  },
  {
   "cell_type": "code",
   "execution_count": 4,
   "metadata": {},
   "outputs": [
    {
     "data": {
      "text/plain": [
       "<Figure size 1008x504 with 0 Axes>"
      ]
     },
     "execution_count": 4,
     "metadata": {},
     "output_type": "execute_result"
    },
    {
     "data": {
      "text/plain": [
       "<Figure size 1008x504 with 0 Axes>"
      ]
     },
     "metadata": {},
     "output_type": "display_data"
    }
   ],
   "source": [
    "plt.figure(figsize=(14, 7))"
   ]
  },
  {
   "cell_type": "code",
   "execution_count": 5,
   "metadata": {},
   "outputs": [],
   "source": [
    "# Create a colormap\n",
    "colormap = np.array([\"red\", \"lime\", \"black\"])"
   ]
  },
  {
   "cell_type": "code",
   "execution_count": 6,
   "metadata": {},
   "outputs": [
    {
     "data": {
      "image/png": "[encoded data removed]",
      "text/plain": [
       "<Figure size 432x288 with 1 Axes>"
      ]
     },
     "metadata": {
      "needs_background": "light"
     },
     "output_type": "display_data"
    }
   ],
   "source": [
    "# Plot Sepal\n",
    "plt.subplot(1, 2, 1)\n",
    "plt.scatter(df.SepalLength, df.SepalWidth, c=colormap[clusters], s=40)\n",
    "plt.title(\"Sepal\")\n",
    "plt.show()"
   ]
  },
  {
   "cell_type": "code",
   "execution_count": 7,
   "metadata": {},
   "outputs": [
    {
     "data": {
      "image/png": "[encoded data removed]",
      "text/plain": [
       "<Figure size 432x288 with 1 Axes>"
      ]
     },
     "metadata": {
      "needs_background": "light"
     },
     "output_type": "display_data"
    }
   ],
   "source": [
    "# Plot Petal\n",
    "plt.subplot(1, 2, 2)\n",
    "plt.scatter(df.PetalLength, df.PetalWidth, c=colormap[clusters], s=40)\n",
    "plt.title(\"Petal\")\n",
    "plt.show()"
   ]
  }
 ],
 "metadata": {
  "kernelspec": {
   "display_name": "Python 3",
   "language": "python",
   "name": "python3"
  },
  "language_info": {
   "codemirror_mode": {
    "name": "ipython",
    "version": 3
   },
   "file_extension": ".py",
   "mimetype": "text/x-python",
   "name": "python",
   "nbconvert_exporter": "python",
   "pygments_lexer": "ipython3",
   "version": "3.7.1"
  }
 },
 "nbformat": 4,
 "nbformat_minor": 2
}
